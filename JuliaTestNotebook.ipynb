{
  "cells": [
    {
      "cell_type": "markdown",
      "metadata": {
        "collapsed": true,
        "jupyter": {
          "outputs_hidden": false,
          "source_hidden": false
        },
        "nteract": {
          "transient": {
            "deleting": false
          }
        },
        "outputExpanded": false
      },
      "source": [
        "# Test Notebook to document Laboratory Results\n",
        "\n",
        "Using .CSV:\n",
        "1. nteract notebook gui to view data\n",
        "2. install nteract"
      ]
    },
    {
      "cell_type": "code",
      "execution_count": null,
      "metadata": {},
      "outputs": [
        {
          "output_type": "error",
          "ename": "Error",
          "evalue": "Jupyter cannot be started. Error attempting to locate jupyter: Data Science libraries jupyter and notebook are not installed in interpreter Python 3.8.2 64-bit.",
          "traceback": [
            "Error: Jupyter cannot be started. Error attempting to locate jupyter: Data Science libraries jupyter and notebook are not installed in interpreter Python 3.8.2 64-bit.",
            "at b.startServer (c:\\Users\\Daniel L. Young PhD\\.vscode-insiders\\extensions\\ms-python.python-2020.6.79128-dev\\out\\client\\extension.js:92:283824)",
            "at runMicrotasks (<anonymous>)",
            "at processTicksAndRejections (internal/process/task_queues.js:85:5)",
            "at async b.createServer (c:\\Users\\Daniel L. Young PhD\\.vscode-insiders\\extensions\\ms-python.python-2020.6.79128-dev\\out\\client\\extension.js:92:283266)",
            "at async connect (c:\\Users\\Daniel L. Young PhD\\.vscode-insiders\\extensions\\ms-python.python-2020.6.79128-dev\\out\\client\\extension.js:92:415419)",
            "at async E.ensureConnectionAndNotebookImpl (c:\\Users\\Daniel L. Young PhD\\.vscode-insiders\\extensions\\ms-python.python-2020.6.79128-dev\\out\\client\\extension.js:16:569673)",
            "at async E.ensureConnectionAndNotebook (c:\\Users\\Daniel L. Young PhD\\.vscode-insiders\\extensions\\ms-python.python-2020.6.79128-dev\\out\\client\\extension.js:16:569351)",
            "at async E.clearResult (c:\\Users\\Daniel L. Young PhD\\.vscode-insiders\\extensions\\ms-python.python-2020.6.79128-dev\\out\\client\\extension.js:16:565212)",
            "at async E.reexecuteCell (c:\\Users\\Daniel L. Young PhD\\.vscode-insiders\\extensions\\ms-python.python-2020.6.79128-dev\\out\\client\\extension.js:16:552361)",
            "at async E.reexecuteCells (c:\\Users\\Daniel L. Young PhD\\.vscode-insiders\\extensions\\ms-python.python-2020.6.79128-dev\\out\\client\\extension.js:16:549528)"
          ]
        }
      ],
      "source": [
        "## How to install nteract\n",
        "\n",
        "Open Visual Studio Code enter \"]\"\n",
        "# Julia must be installed"
      ]
    },
    {
      "cell_type": "code",
      "execution_count": null,
      "metadata": {},
      "outputs": [],
      "source": [
        "s1 = \"]\""
      ]
    },
    {
      "cell_type": "code",
      "execution_count": null,
      "metadata": {},
      "outputs": [],
      "source": [
        "s2 = \"\"add IJulia\"\""
      ]
    },
    {
      "cell_type": "code",
      "execution_count": null,
      "metadata": {},
      "outputs": [],
      "source": []
    }
  ],
  "metadata": {
    "kernel_info": {
      "name": "julia-1.4"
    },
    "language_info": {
      "name": "julia-1.4"
    },
    "kernelspec": {
      "argv": [
        "C:\\Users\\Daniel L. Young PhD\\AppData\\Local\\Programs\\Julia\\Julia-1.4.1\\bin\\julia.exe",
        "-i",
        "--startup-file=yes",
        "--color=yes",
        "--project=@.",
        "C:\\Users\\Daniel L. Young PhD\\.julia\\packages\\IJulia\\DrVMH\\src\\kernel.jl",
        "{connection_file}"
      ],
      "display_name": "Julia 1.4.1",
      "env": {},
      "interrupt_mode": "message",
      "language": "julia",
      "name": "julia-1.4"
    },
    "nteract": {
      "version": "0.23.1"
    }
  },
  "nbformat": 4,
  "nbformat_minor": 0
}